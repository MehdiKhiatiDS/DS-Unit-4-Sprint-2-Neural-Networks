{
 "cells": [
  {
   "cell_type": "markdown",
   "metadata": {
    "colab_type": "text",
    "id": "41TS0Sa0rDNx"
   },
   "source": [
    "Lambda School Data Science\n",
    "\n",
    "*Unit 4, Sprint 2, Module 4*\n",
    "\n",
    "---"
   ]
  },
  {
   "cell_type": "markdown",
   "metadata": {
    "colab_type": "text",
    "id": "41TS0Sa0rDNx"
   },
   "source": [
    "# Neural Networks & GPUs (Prepare)\n",
    "*aka Hyperparameter Tuning*\n",
    "\n",
    "*aka Big Servers for Big Problems*"
   ]
  },
  {
   "cell_type": "markdown",
   "metadata": {
    "colab_type": "text",
    "id": "41TS0Sa0rDNx"
   },
   "source": [
    "## Learning Objectives\n",
    "* <a href=\"#p1\">Part 1</a>: Describe the major hyperparemeters to tune\n",
    "* <a href=\"#p2\">Part 2</a>: Implement an experiment tracking framework\n",
    "* <a href=\"#p3\">Part 3</a>: Search the hyperparameter space using RandomSearch (Optional)"
   ]
  },
  {
   "cell_type": "code",
   "execution_count": 1,
   "metadata": {},
   "outputs": [],
   "source": [
    "wandb_group = \"ds8\"\n",
    "wandb_project = \"inclass\""
   ]
  },
  {
   "cell_type": "markdown",
   "metadata": {},
   "source": [
    "# Hyperparameter Options (Learn)\n",
    "<a id=\"p1\"></a>"
   ]
  },
  {
   "cell_type": "markdown",
   "metadata": {},
   "source": [
    "## Overview\n",
    "\n",
    "Hyperparameter tuning is much more important with neural networks than it has been with any other models that we have considered up to this point. Other supervised learning models might have a couple of parameters, but neural networks can have dozens. These can substantially affect the accuracy of our models and although it can be a time consuming process is a necessary step when working with neural networks.\n",
    "​\n",
    "Hyperparameter tuning comes with a challenge. How can we compare models specified with different hyperparameters if our model's final error metric can vary somewhat erratically? How do we avoid just getting unlucky and selecting the wrong hyperparameter? This is a problem that to a certain degree we just have to live with as we test and test again. However, we can minimize it somewhat by pairing our experiments with Cross Validation to reduce the variance of our final accuracy values."
   ]
  },
  {
   "cell_type": "markdown",
   "metadata": {
    "colab_type": "text",
    "id": "0s0o2pqBs88q"
   },
   "source": [
    "### Load Boston Housing Data"
   ]
  },
  {
   "cell_type": "code",
   "execution_count": 1,
   "metadata": {},
   "outputs": [],
   "source": [
    "from tensorflow.keras.datasets import boston_housing\n",
    "\n",
    "(x_train, y_train), (x_test, y_test) = boston_housing.load_data()"
   ]
  },
  {
   "cell_type": "markdown",
   "metadata": {
    "colab_type": "text",
    "id": "Pm7zow5IvaTt"
   },
   "source": [
    "### Normalizing Input Data\n",
    "\n",
    "It's not 100% necessary to normalize/scale your input data before feeding it to a neural network, the network can learn the appropriate weights to deal with data of as long as it is numerically represented,  but it is recommended as it can help **make training faster** and **reduces the chances that gradient descent might get stuck in a local optimum**.\n",
    "\n",
    "<https://stackoverflow.com/questions/4674623/why-do-we-have-to-normalize-the-input-for-an-artificial-neural-network>"
   ]
  },
  {
   "cell_type": "code",
   "execution_count": 2,
   "metadata": {},
   "outputs": [
    {
     "name": "stdout",
     "output_type": "stream",
     "text": [
      "[[-0.27224633 -0.48361547 -0.43576161 -0.25683275 -0.1652266  -0.1764426\n",
      "   0.81306188  0.1166983  -0.62624905 -0.59517003  1.14850044  0.44807713\n",
      "   0.8252202 ]\n",
      " [-0.40342651  2.99178419 -1.33391162 -0.25683275 -1.21518188  1.89434613\n",
      "  -1.91036058  1.24758524 -0.85646254 -0.34843254 -1.71818909  0.43190599\n",
      "  -1.32920239]\n",
      " [ 0.1249402  -0.48361547  1.0283258  -0.25683275  0.62864202 -1.82968811\n",
      "   1.11048828 -1.18743907  1.67588577  1.5652875   0.78447637  0.22061726\n",
      "  -1.30850006]\n",
      " [-0.40149354 -0.48361547 -0.86940196 -0.25683275 -0.3615597  -0.3245576\n",
      "  -1.23667187  1.10717989 -0.51114231 -1.094663    0.78447637  0.44807713\n",
      "  -0.65292624]\n",
      " [-0.0056343  -0.48361547  1.0283258  -0.25683275  1.32861221  0.15364225\n",
      "   0.69480801 -0.57857203  1.67588577  1.5652875   0.78447637  0.3898823\n",
      "   0.26349695]\n",
      " [-0.37502238 -0.48361547 -0.54747912 -0.25683275 -0.54935658 -0.78865126\n",
      "   0.18954148  0.48371503 -0.51114231 -0.71552978  0.51145832  0.38669063\n",
      "  -0.13812828]\n",
      " [ 0.58963463 -0.48361547  1.0283258  -0.25683275  1.21764133 -1.03127774\n",
      "   1.11048828 -1.06518235  1.67588577  1.5652875   0.78447637  0.44807713\n",
      "   1.49873604]\n",
      " [ 0.0381708  -0.48361547  1.24588095 -0.25683275  2.67733525 -1.12719983\n",
      "   1.11048828 -1.14833073 -0.51114231 -0.01744323 -1.71818909  0.44807713\n",
      "   1.88793986]\n",
      " [-0.17228416 -0.48361547  1.24588095 -0.25683275  2.67733525 -0.90150078\n",
      "   1.11048828 -1.09664657 -0.51114231 -0.01744323 -1.71818909 -1.97365769\n",
      "   0.53952803]\n",
      " [-0.22932104 -0.48361547  1.58544339 -0.25683275  0.56888847 -1.76056777\n",
      "   1.11048828 -1.13471925 -0.62624905  0.18716835  1.23950646  0.44807713\n",
      "   2.99068404]]\n"
     ]
    }
   ],
   "source": [
    "from sklearn.preprocessing import StandardScaler\n",
    "\n",
    "scaler = StandardScaler()\n",
    "\n",
    "x_train = scaler.fit_transform(x_train)\n",
    "x_test = scaler.transform(x_test)\n",
    "print(x_train[:10])"
   ]
  },
  {
   "cell_type": "markdown",
   "metadata": {
    "colab_type": "text",
    "id": "l6hgCWbir90R"
   },
   "source": [
    "### Model Validation using an automatic verification Dataset\n",
    "\n",
    "Instead of doing seperate train test split class, Keras has a really nice feature that you can set the validation.data argument when fitting your model and Keras will take that portion of your test data and use it as a validation dataset. "
   ]
  },
  {
   "cell_type": "code",
   "execution_count": 3,
   "metadata": {
    "colab": {
     "base_uri": "https://localhost:8080/",
     "height": 1750
    },
    "colab_type": "code",
    "id": "GMXVfmzXp1Oo",
    "outputId": "b05e251e-508f-46e6-865b-f869ae2a5dc4"
   },
   "outputs": [
    {
     "name": "stdout",
     "output_type": "stream",
     "text": [
      "Train on 404 samples, validate on 102 samples\n",
      "Epoch 1/75\n",
      "404/404 [==============================] - 0s 1ms/sample - loss: 505.3136 - mse: 505.3135 - mae: 20.2977 - val_loss: 433.1483 - val_mse: 433.1483 - val_mae: 18.4231\n",
      "Epoch 2/75\n",
      "404/404 [==============================] - 0s 153us/sample - loss: 278.9926 - mse: 278.9926 - mae: 14.1701 - val_loss: 155.1293 - val_mse: 155.1293 - val_mae: 10.6601\n",
      "Epoch 3/75\n",
      "404/404 [==============================] - 0s 153us/sample - loss: 65.8106 - mse: 65.8106 - mae: 6.1497 - val_loss: 44.0741 - val_mse: 44.0741 - val_mae: 4.9582\n",
      "Epoch 4/75\n",
      "404/404 [==============================] - 0s 149us/sample - loss: 29.6452 - mse: 29.6452 - mae: 3.7868 - val_loss: 30.2783 - val_mse: 30.2783 - val_mae: 4.2386\n",
      "Epoch 5/75\n",
      "404/404 [==============================] - 0s 152us/sample - loss: 21.3930 - mse: 21.3930 - mae: 3.1720 - val_loss: 25.5349 - val_mse: 25.5349 - val_mae: 3.9198\n",
      "Epoch 6/75\n",
      "404/404 [==============================] - 0s 153us/sample - loss: 18.4121 - mse: 18.4121 - mae: 2.9768 - val_loss: 24.0613 - val_mse: 24.0613 - val_mae: 3.7427\n",
      "Epoch 7/75\n",
      "404/404 [==============================] - 0s 177us/sample - loss: 16.7432 - mse: 16.7432 - mae: 2.7739 - val_loss: 24.5914 - val_mse: 24.5914 - val_mae: 3.7805\n",
      "Epoch 8/75\n",
      "404/404 [==============================] - 0s 158us/sample - loss: 15.6736 - mse: 15.6736 - mae: 2.7473 - val_loss: 23.7507 - val_mse: 23.7507 - val_mae: 3.6371\n",
      "Epoch 9/75\n",
      "404/404 [==============================] - 0s 149us/sample - loss: 14.4908 - mse: 14.4908 - mae: 2.5846 - val_loss: 23.5098 - val_mse: 23.5098 - val_mae: 3.6197\n",
      "Epoch 10/75\n",
      "404/404 [==============================] - 0s 155us/sample - loss: 13.7474 - mse: 13.7474 - mae: 2.5291 - val_loss: 23.6900 - val_mse: 23.6900 - val_mae: 3.5534\n",
      "Epoch 11/75\n",
      "404/404 [==============================] - 0s 150us/sample - loss: 12.9206 - mse: 12.9206 - mae: 2.4912 - val_loss: 23.8405 - val_mse: 23.8404 - val_mae: 3.4925\n",
      "Epoch 12/75\n",
      "404/404 [==============================] - 0s 149us/sample - loss: 12.4098 - mse: 12.4098 - mae: 2.4486 - val_loss: 23.2974 - val_mse: 23.2974 - val_mae: 3.4180\n",
      "Epoch 13/75\n",
      "404/404 [==============================] - 0s 152us/sample - loss: 12.0234 - mse: 12.0234 - mae: 2.4259 - val_loss: 23.3725 - val_mse: 23.3725 - val_mae: 3.3946\n",
      "Epoch 14/75\n",
      "404/404 [==============================] - 0s 150us/sample - loss: 11.6473 - mse: 11.6473 - mae: 2.4016 - val_loss: 23.1234 - val_mse: 23.1234 - val_mae: 3.3131\n",
      "Epoch 15/75\n",
      "404/404 [==============================] - 0s 151us/sample - loss: 11.4575 - mse: 11.4575 - mae: 2.3531 - val_loss: 23.6392 - val_mse: 23.6392 - val_mae: 3.3418\n",
      "Epoch 16/75\n",
      "404/404 [==============================] - 0s 149us/sample - loss: 10.8582 - mse: 10.8582 - mae: 2.3010 - val_loss: 23.6823 - val_mse: 23.6823 - val_mae: 3.2878\n",
      "Epoch 17/75\n",
      "404/404 [==============================] - 0s 150us/sample - loss: 10.7240 - mse: 10.7240 - mae: 2.3069 - val_loss: 23.0996 - val_mse: 23.0996 - val_mae: 3.2409\n",
      "Epoch 18/75\n",
      "404/404 [==============================] - 0s 149us/sample - loss: 10.4865 - mse: 10.4865 - mae: 2.2777 - val_loss: 24.2108 - val_mse: 24.2108 - val_mae: 3.2859\n",
      "Epoch 19/75\n",
      "404/404 [==============================] - 0s 149us/sample - loss: 10.2137 - mse: 10.2137 - mae: 2.2466 - val_loss: 23.5406 - val_mse: 23.5406 - val_mae: 3.2136\n",
      "Epoch 20/75\n",
      "404/404 [==============================] - 0s 154us/sample - loss: 10.1944 - mse: 10.1944 - mae: 2.2683 - val_loss: 23.8730 - val_mse: 23.8730 - val_mae: 3.2047\n",
      "Epoch 21/75\n",
      "404/404 [==============================] - 0s 148us/sample - loss: 10.0502 - mse: 10.0502 - mae: 2.2321 - val_loss: 21.7029 - val_mse: 21.7029 - val_mae: 3.0798\n",
      "Epoch 22/75\n",
      "404/404 [==============================] - 0s 150us/sample - loss: 9.9268 - mse: 9.9268 - mae: 2.2052 - val_loss: 23.6522 - val_mse: 23.6522 - val_mae: 3.1710\n",
      "Epoch 23/75\n",
      "404/404 [==============================] - 0s 156us/sample - loss: 9.8027 - mse: 9.8027 - mae: 2.2272 - val_loss: 22.6522 - val_mse: 22.6522 - val_mae: 3.1102\n",
      "Epoch 24/75\n",
      "404/404 [==============================] - 0s 161us/sample - loss: 9.5643 - mse: 9.5643 - mae: 2.1923 - val_loss: 23.1735 - val_mse: 23.1735 - val_mae: 3.1265\n",
      "Epoch 25/75\n",
      "404/404 [==============================] - 0s 151us/sample - loss: 9.6084 - mse: 9.6084 - mae: 2.2046 - val_loss: 23.1333 - val_mse: 23.1333 - val_mae: 3.0996\n",
      "Epoch 26/75\n",
      "404/404 [==============================] - 0s 153us/sample - loss: 9.2413 - mse: 9.2413 - mae: 2.1563 - val_loss: 22.0914 - val_mse: 22.0914 - val_mae: 3.0377\n",
      "Epoch 27/75\n",
      "404/404 [==============================] - 0s 150us/sample - loss: 9.2439 - mse: 9.2439 - mae: 2.1626 - val_loss: 23.1887 - val_mse: 23.1887 - val_mae: 3.1145\n",
      "Epoch 28/75\n",
      "404/404 [==============================] - 0s 153us/sample - loss: 9.1371 - mse: 9.1371 - mae: 2.1351 - val_loss: 22.9150 - val_mse: 22.9150 - val_mae: 3.0693\n",
      "Epoch 29/75\n",
      "404/404 [==============================] - 0s 153us/sample - loss: 8.9822 - mse: 8.9822 - mae: 2.1192 - val_loss: 22.4008 - val_mse: 22.4008 - val_mae: 3.0681\n",
      "Epoch 30/75\n",
      "404/404 [==============================] - 0s 148us/sample - loss: 9.0207 - mse: 9.0207 - mae: 2.1182 - val_loss: 22.2923 - val_mse: 22.2923 - val_mae: 2.9982\n",
      "Epoch 31/75\n",
      "404/404 [==============================] - 0s 157us/sample - loss: 8.6941 - mse: 8.6941 - mae: 2.0839 - val_loss: 21.9520 - val_mse: 21.9520 - val_mae: 3.0383\n",
      "Epoch 32/75\n",
      "404/404 [==============================] - 0s 168us/sample - loss: 8.6190 - mse: 8.6190 - mae: 2.1015 - val_loss: 22.5713 - val_mse: 22.5713 - val_mae: 3.0435\n",
      "Epoch 33/75\n",
      "404/404 [==============================] - 0s 153us/sample - loss: 8.6088 - mse: 8.6088 - mae: 2.0683 - val_loss: 22.5695 - val_mse: 22.5695 - val_mae: 3.0027\n",
      "Epoch 34/75\n",
      "404/404 [==============================] - 0s 152us/sample - loss: 8.5591 - mse: 8.5591 - mae: 2.0990 - val_loss: 22.0828 - val_mse: 22.0828 - val_mae: 3.1104\n",
      "Epoch 35/75\n",
      "404/404 [==============================] - 0s 155us/sample - loss: 8.4946 - mse: 8.4946 - mae: 2.0356 - val_loss: 21.2450 - val_mse: 21.2450 - val_mae: 2.9690\n",
      "Epoch 36/75\n",
      "404/404 [==============================] - 0s 155us/sample - loss: 8.2106 - mse: 8.2106 - mae: 2.0183 - val_loss: 21.6792 - val_mse: 21.6792 - val_mae: 2.9471\n",
      "Epoch 37/75\n",
      "404/404 [==============================] - 0s 153us/sample - loss: 8.1918 - mse: 8.1918 - mae: 2.0019 - val_loss: 21.7580 - val_mse: 21.7580 - val_mae: 2.9635\n",
      "Epoch 38/75\n",
      "404/404 [==============================] - 0s 153us/sample - loss: 8.2612 - mse: 8.2612 - mae: 2.0109 - val_loss: 22.3964 - val_mse: 22.3964 - val_mae: 3.0138\n",
      "Epoch 39/75\n",
      "404/404 [==============================] - 0s 155us/sample - loss: 7.9546 - mse: 7.9546 - mae: 1.9827 - val_loss: 20.7719 - val_mse: 20.7719 - val_mae: 2.8678\n",
      "Epoch 40/75\n",
      "404/404 [==============================] - 0s 151us/sample - loss: 7.9387 - mse: 7.9387 - mae: 1.9691 - val_loss: 20.6656 - val_mse: 20.6656 - val_mae: 2.8838\n",
      "Epoch 41/75\n",
      "404/404 [==============================] - 0s 157us/sample - loss: 7.8032 - mse: 7.8032 - mae: 1.9485 - val_loss: 21.1426 - val_mse: 21.1426 - val_mae: 2.8863\n",
      "Epoch 42/75\n",
      "404/404 [==============================] - 0s 153us/sample - loss: 7.6134 - mse: 7.6134 - mae: 1.9386 - val_loss: 21.0124 - val_mse: 21.0124 - val_mae: 2.9329\n",
      "Epoch 43/75\n",
      "404/404 [==============================] - 0s 152us/sample - loss: 7.6575 - mse: 7.6575 - mae: 1.9421 - val_loss: 19.7353 - val_mse: 19.7353 - val_mae: 2.8636\n",
      "Epoch 44/75\n",
      "404/404 [==============================] - 0s 150us/sample - loss: 7.9195 - mse: 7.9195 - mae: 1.9671 - val_loss: 19.4245 - val_mse: 19.4245 - val_mae: 2.7962\n",
      "Epoch 45/75\n",
      "404/404 [==============================] - 0s 153us/sample - loss: 7.5055 - mse: 7.5055 - mae: 1.9355 - val_loss: 19.6390 - val_mse: 19.6390 - val_mae: 2.8381\n",
      "Epoch 46/75\n",
      "404/404 [==============================] - 0s 155us/sample - loss: 7.2808 - mse: 7.2808 - mae: 1.8774 - val_loss: 21.4724 - val_mse: 21.4724 - val_mae: 3.0259\n",
      "Epoch 47/75\n",
      "404/404 [==============================] - 0s 158us/sample - loss: 7.2536 - mse: 7.2536 - mae: 1.8849 - val_loss: 20.7757 - val_mse: 20.7757 - val_mae: 2.8823\n",
      "Epoch 48/75\n",
      "404/404 [==============================] - 0s 179us/sample - loss: 7.1382 - mse: 7.1382 - mae: 1.8795 - val_loss: 19.3882 - val_mse: 19.3882 - val_mae: 2.8026\n",
      "Epoch 49/75\n",
      "404/404 [==============================] - 0s 156us/sample - loss: 7.0862 - mse: 7.0862 - mae: 1.8595 - val_loss: 20.4907 - val_mse: 20.4907 - val_mae: 2.9141\n",
      "Epoch 50/75\n",
      "404/404 [==============================] - 0s 159us/sample - loss: 7.3083 - mse: 7.3083 - mae: 1.9399 - val_loss: 18.9536 - val_mse: 18.9536 - val_mae: 2.8255\n",
      "Epoch 51/75\n",
      "404/404 [==============================] - 0s 187us/sample - loss: 7.3754 - mse: 7.3754 - mae: 1.9287 - val_loss: 18.8721 - val_mse: 18.8721 - val_mae: 2.8750\n",
      "Epoch 52/75\n",
      "404/404 [==============================] - 0s 194us/sample - loss: 6.8835 - mse: 6.8835 - mae: 1.8438 - val_loss: 19.7538 - val_mse: 19.7538 - val_mae: 2.8315\n",
      "Epoch 53/75\n",
      "404/404 [==============================] - 0s 203us/sample - loss: 7.2997 - mse: 7.2997 - mae: 1.9070 - val_loss: 18.6390 - val_mse: 18.6390 - val_mae: 2.7801\n",
      "Epoch 54/75\n",
      "404/404 [==============================] - 0s 184us/sample - loss: 6.8694 - mse: 6.8694 - mae: 1.8407 - val_loss: 18.4135 - val_mse: 18.4135 - val_mae: 2.7024\n",
      "Epoch 55/75\n",
      "404/404 [==============================] - 0s 194us/sample - loss: 6.7154 - mse: 6.7154 - mae: 1.8223 - val_loss: 19.7860 - val_mse: 19.7860 - val_mae: 2.8403\n",
      "Epoch 56/75\n",
      "404/404 [==============================] - 0s 200us/sample - loss: 6.5568 - mse: 6.5568 - mae: 1.7853 - val_loss: 18.8225 - val_mse: 18.8225 - val_mae: 2.7511\n",
      "Epoch 57/75\n",
      "404/404 [==============================] - 0s 202us/sample - loss: 6.4982 - mse: 6.4982 - mae: 1.7829 - val_loss: 19.3884 - val_mse: 19.3884 - val_mae: 2.8043\n",
      "Epoch 58/75\n",
      "404/404 [==============================] - 0s 183us/sample - loss: 6.4081 - mse: 6.4081 - mae: 1.7839 - val_loss: 20.7371 - val_mse: 20.7371 - val_mae: 2.9978\n",
      "Epoch 59/75\n",
      "404/404 [==============================] - 0s 197us/sample - loss: 6.8380 - mse: 6.8380 - mae: 1.8368 - val_loss: 18.4390 - val_mse: 18.4390 - val_mae: 2.8176\n",
      "Epoch 60/75\n",
      "404/404 [==============================] - 0s 199us/sample - loss: 6.4031 - mse: 6.4031 - mae: 1.7753 - val_loss: 19.4259 - val_mse: 19.4259 - val_mae: 2.8486\n",
      "Epoch 61/75\n",
      "404/404 [==============================] - 0s 192us/sample - loss: 6.2540 - mse: 6.2540 - mae: 1.7468 - val_loss: 19.0309 - val_mse: 19.0309 - val_mae: 2.8289\n",
      "Epoch 62/75\n",
      "404/404 [==============================] - 0s 196us/sample - loss: 6.2659 - mse: 6.2659 - mae: 1.7855 - val_loss: 19.3749 - val_mse: 19.3749 - val_mae: 2.7856\n",
      "Epoch 63/75\n",
      "404/404 [==============================] - 0s 207us/sample - loss: 6.1824 - mse: 6.1824 - mae: 1.7643 - val_loss: 18.7447 - val_mse: 18.7447 - val_mae: 2.7986\n",
      "Epoch 64/75\n",
      "404/404 [==============================] - 0s 188us/sample - loss: 5.9718 - mse: 5.9718 - mae: 1.7081 - val_loss: 17.2795 - val_mse: 17.2795 - val_mae: 2.6928\n",
      "Epoch 65/75\n",
      "404/404 [==============================] - 0s 201us/sample - loss: 6.1408 - mse: 6.1408 - mae: 1.7509 - val_loss: 17.8569 - val_mse: 17.8569 - val_mae: 2.7060\n",
      "Epoch 66/75\n",
      "404/404 [==============================] - 0s 189us/sample - loss: 5.9173 - mse: 5.9173 - mae: 1.7159 - val_loss: 18.3334 - val_mse: 18.3334 - val_mae: 2.7595\n",
      "Epoch 67/75\n",
      "404/404 [==============================] - 0s 202us/sample - loss: 5.8289 - mse: 5.8289 - mae: 1.6830 - val_loss: 18.3416 - val_mse: 18.3416 - val_mae: 2.7866\n",
      "Epoch 68/75\n",
      "404/404 [==============================] - 0s 191us/sample - loss: 5.7902 - mse: 5.7902 - mae: 1.6988 - val_loss: 17.6917 - val_mse: 17.6917 - val_mae: 2.6530\n",
      "Epoch 69/75\n",
      "404/404 [==============================] - 0s 189us/sample - loss: 5.8760 - mse: 5.8760 - mae: 1.7328 - val_loss: 17.2111 - val_mse: 17.2111 - val_mae: 2.6473\n",
      "Epoch 70/75\n",
      "404/404 [==============================] - 0s 197us/sample - loss: 5.9228 - mse: 5.9228 - mae: 1.6975 - val_loss: 16.4747 - val_mse: 16.4747 - val_mae: 2.6431\n",
      "Epoch 71/75\n",
      "404/404 [==============================] - 0s 202us/sample - loss: 5.6002 - mse: 5.6002 - mae: 1.6822 - val_loss: 17.9558 - val_mse: 17.9558 - val_mae: 2.7636\n",
      "Epoch 72/75\n",
      "404/404 [==============================] - 0s 189us/sample - loss: 5.4279 - mse: 5.4279 - mae: 1.6472 - val_loss: 16.5193 - val_mse: 16.5193 - val_mae: 2.5988\n",
      "Epoch 73/75\n",
      "404/404 [==============================] - 0s 199us/sample - loss: 5.4043 - mse: 5.4043 - mae: 1.6368 - val_loss: 18.1246 - val_mse: 18.1246 - val_mae: 2.7434\n",
      "Epoch 74/75\n",
      "404/404 [==============================] - 0s 189us/sample - loss: 5.6090 - mse: 5.6090 - mae: 1.6745 - val_loss: 17.7949 - val_mse: 17.7949 - val_mae: 2.7356\n",
      "Epoch 75/75\n",
      "404/404 [==============================] - 0s 197us/sample - loss: 5.3422 - mse: 5.3422 - mae: 1.6459 - val_loss: 17.5469 - val_mse: 17.5469 - val_mae: 2.7655\n"
     ]
    },
    {
     "data": {
      "text/plain": [
       "<tensorflow.python.keras.callbacks.History at 0x14000eed0>"
      ]
     },
     "execution_count": 3,
     "metadata": {},
     "output_type": "execute_result"
    }
   ],
   "source": [
    "from tensorflow import keras\n",
    "from tensorflow.keras.models import Sequential\n",
    "from tensorflow.keras.layers import Dense\n",
    "\n",
    "# Important Hyperparameters\n",
    "inputs = x_train.shape[1]\n",
    "epochs = 75\n",
    "batch_size = 10\n",
    "\n",
    "\n",
    "# Create Model\n",
    "model = Sequential()\n",
    "model.add(Dense(64, activation='relu', input_shape=(inputs,)))\n",
    "model.add(Dense(64, activation='relu'))\n",
    "model.add(Dense(1))\n",
    "\n",
    "# Compile Model\n",
    "model.compile(optimizer='adam', loss='mse', metrics=['mse', 'mae'])\n",
    "\n",
    "# Fit Model\n",
    "model.fit(x_train, y_train, \n",
    "          validation_data=(x_test,y_test), \n",
    "          epochs=epochs, \n",
    "          batch_size=batch_size\n",
    "         )"
   ]
  },
  {
   "cell_type": "markdown",
   "metadata": {
    "colab_type": "text",
    "id": "sYJ8t_ezHP4W"
   },
   "source": [
    "### Hyperparameter Tuning Approaches:\n",
    "\n",
    "#### 1) Babysitting AKA \"Grad Student Descent\".\n",
    "\n",
    "If you fiddled with any hyperparameters yesterday, this is basically what you did. This approach is 100% manual and is pretty common among researchers where finding that 1 exact specification that jumps your model to a level of accuracy never seen before is the difference between publishing and not publishing a paper. Of course the professors don't do this themselves, that's grunt work. This is also known as the fiddle with hyperparameters until you run out of time method.\n",
    "\n",
    "#### 2) Grid Search\n",
    "\n",
    "Grid Search is the Grad Student galaxy brain realization of: why don't I just specify all the experiments I want to run and let the computer try every possible combination of them while I go and grab lunch. This has a specific downside in that if I specify 5 hyperparameters with 5 options each then I've just created 5^5 combinations of hyperparameters to check. Which means that I have to train 3125 different versions of my model Then if I use 5-fold Cross Validation on that then my model has to run 15,525 times. This is the brute-force method of hyperparameter tuning, but it can be very profitable if done wisely. \n",
    "\n",
    "When using Grid Search here's what I suggest: don't use it to test combinations of different hyperparameters, only use it to test different specifications of **a single** hyperparameter. It's rare that combinations between different hyperparameters lead to big performance gains. You'll get 90-95% of the way there if you just Grid Search one parameter and take the best result, then retain that best result while you test another, and then retain the best specification from that while you train another. This at least makes the situation much more manageable and leads to pretty good results. \n",
    "\n",
    "#### 3) Random Search\n",
    "\n",
    "Do Grid Search for a couple of hours and you'll say to yourself - \"There's got to be a better way.\" Enter Random Search. For Random search you specify a hyperparameter space and it picks specifications from that randomly, tries them out, gives you the best results and says - That's going to have to be good enough, go home and spend time with your family. \n",
    "\n",
    "Grid Search treats every parameter as if it was equally important, but this just isn't the case, some are known to move the needle a lot more than others (we'll talk about that in a minute). Random Search allows searching to be specified along the most important parameter and experiments less along the dimensions of less important hyperparameters. The downside of Random search is that it won't find the absolute best hyperparameters, but it is much less costly to perform than Grid Search. \n",
    "\n",
    "#### 4) Bayesian Methods\n",
    "\n",
    "One thing that can make more manual methods like babysitting and gridsearch effective is that as the experimenter sees results he can then make updates to his future searches taking into account the results of past specifications. If only we could hyperparameter tune our hyperparameter tuning. Well, we kind of can. Enter Bayesian Optimization. Neural Networks are like an optimization problem within an optimization problem, and Bayesian Optimization is a search strategy that tries to take into account the results of past searches in order to improve future ones. This is the most advanced method but can be a little bit tricky to implement, but there are some early steps with `hyperas` which is Bayesian optimization wrapper for `keras`. "
   ]
  },
  {
   "cell_type": "markdown",
   "metadata": {
    "colab_type": "text",
    "id": "HfQ7D043OMMn"
   },
   "source": [
    "## What Hyperparameters are there to test?\n",
    "\n",
    "- batch_size\n",
    "- training epochs\n",
    "- optimization algorithms\n",
    "- learning rate\n",
    "- momentum\n",
    "- activation functions\n",
    "- dropout regularization\n",
    "- number of neurons in the hidden layer\n",
    "\n",
    "There are more, but these are the most important."
   ]
  },
  {
   "cell_type": "markdown",
   "metadata": {},
   "source": [
    "## Follow Along"
   ]
  },
  {
   "cell_type": "markdown",
   "metadata": {
    "colab_type": "text",
    "id": "Mri5-kXzVKAa"
   },
   "source": [
    "## Batch Size\n",
    "\n",
    "Batch size determines how many observations the model is shown before it calculates loss/error and updates the model weights via gradient descent. You're looking for a sweet spot here where you're showing it enough observations that you have enough information to updates the weights, but not such a large batch size that you don't get a lot of weight update iterations performed in a given epoch. Feed-forward Neural Networks aren't as sensitive to bach_size as other networks, but it is still an important hyperparameter to tune. Smaller batch sizes will also take longer to train. "
   ]
  },
  {
   "cell_type": "code",
   "execution_count": 4,
   "metadata": {
    "colab": {
     "base_uri": "https://localhost:8080/",
     "height": 13561
    },
    "colab_type": "code",
    "id": "2smXfriNAGn7",
    "outputId": "ae996575-78e2-43fb-9dbe-5d44aaf0b430"
   },
   "outputs": [
    {
     "name": "stderr",
     "output_type": "stream",
     "text": [
      "/Users/Medy/opt/anaconda3/lib/python3.7/site-packages/sklearn/model_selection/_split.py:1978: FutureWarning: The default value of cv will change from 3 to 5 in version 0.22. Specify it explicitly to silence this warning.\n",
      "  warnings.warn(CV_WARNING, FutureWarning)\n"
     ]
    },
    {
     "name": "stdout",
     "output_type": "stream",
     "text": [
      "Best: 0.6497395833333334 using {'batch_size': 60, 'epochs': 20}\n",
      "Means: 0.62109375, Stdev: 0.07293991444875478 with: {'batch_size': 10, 'epochs': 20}\n",
      "Means: 0.6341145833333334, Stdev: 0.04525559165880928 with: {'batch_size': 20, 'epochs': 20}\n",
      "Means: 0.62109375, Stdev: 0.020914555213813815 with: {'batch_size': 40, 'epochs': 20}\n",
      "Means: 0.6497395833333334, Stdev: 0.020751793555350555 with: {'batch_size': 60, 'epochs': 20}\n",
      "Means: 0.5546875, Stdev: 0.11878254762292172 with: {'batch_size': 80, 'epochs': 20}\n",
      "Means: 0.52734375, Stdev: 0.03866990209613932 with: {'batch_size': 100, 'epochs': 20}\n"
     ]
    }
   ],
   "source": [
    "import numpy\n",
    "import pandas as pd\n",
    "from sklearn.model_selection import GridSearchCV\n",
    "from tensorflow.keras.models import Sequential\n",
    "from tensorflow.keras.layers import Dense\n",
    "from tensorflow.keras.wrappers.scikit_learn import KerasClassifier\n",
    "\n",
    "# fix random seed for reproducibility\n",
    "seed = 7\n",
    "numpy.random.seed(seed)\n",
    "\n",
    "# load dataset\n",
    "url =\"https://raw.githubusercontent.com/jbrownlee/Datasets/master/pima-indians-diabetes.data.csv\"\n",
    "\n",
    "dataset = pd.read_csv(url, header=None).values\n",
    "\n",
    "# split into input (X) and output (Y) variables\n",
    "X = dataset[:,0:8]\n",
    "Y = dataset[:,8]\n",
    "\n",
    "# Function to create model, required for KerasClassifier\n",
    "def create_model():\n",
    "    # create model\n",
    "    model = Sequential()\n",
    "    model.add(Dense(12, input_dim=8, activation='relu'))\n",
    "    model.add(Dense(1, activation='sigmoid'))\n",
    "    # Compile model\n",
    "    model.compile(loss='binary_crossentropy', optimizer='adam', metrics=['accuracy'])\n",
    "    return model\n",
    "\n",
    "# create model\n",
    "model = KerasClassifier(build_fn=create_model, verbose=0)\n",
    "\n",
    "# define the grid search parameters\n",
    "# batch_size = [10, 20, 40, 60, 80, 100]\n",
    "# param_grid = dict(batch_size=batch_size, epochs=epochs)\n",
    "\n",
    "# define the grid search parameters\n",
    "param_grid = {'batch_size': [10, 20, 40, 60, 80, 100],\n",
    "              'epochs': [20]}\n",
    "\n",
    "# Create Grid Search\n",
    "grid = GridSearchCV(estimator=model, param_grid=param_grid, n_jobs=-1)\n",
    "grid_result = grid.fit(X, Y)\n",
    "\n",
    "# Report Results\n",
    "print(f\"Best: {grid_result.best_score_} using {grid_result.best_params_}\")\n",
    "means = grid_result.cv_results_['mean_test_score']\n",
    "stds = grid_result.cv_results_['std_test_score']\n",
    "params = grid_result.cv_results_['params']\n",
    "for mean, stdev, param in zip(means, stds, params):\n",
    "    print(f\"Means: {mean}, Stdev: {stdev} with: {param}\") "
   ]
  },
  {
   "cell_type": "markdown",
   "metadata": {
    "colab_type": "text",
    "id": "pmABfjlvXbqi"
   },
   "source": [
    "## Epochs\n",
    "\n",
    "The number of training epochs has a large and direct affect on the accuracy, However, more epochs is almost always goign to better than less epochs. This means that if you tune this parameter at the beginning and try and maintain the same value all throughout your training, you're going to be waiting a long time for each iteration of GridSearch. I suggest picking a fixed moderat # of epochs all throughout your training and then Grid Searching this parameter at the very end. "
   ]
  },
  {
   "cell_type": "code",
   "execution_count": 5,
   "metadata": {
    "colab": {
     "base_uri": "https://localhost:8080/",
     "height": 26329
    },
    "colab_type": "code",
    "id": "bAmxP3N7TmFh",
    "outputId": "3ddb08c4-51ac-4eaa-ff39-143397024544"
   },
   "outputs": [
    {
     "name": "stdout",
     "output_type": "stream",
     "text": [
      "Best: 0.7044270833333334 using {'batch_size': 20, 'epochs': 200}\n",
      "Means: 0.5703125, Stdev: 0.035516098169234 with: {'batch_size': 20, 'epochs': 20}\n",
      "Means: 0.6497395833333334, Stdev: 0.018414239093399672 with: {'batch_size': 20, 'epochs': 40}\n",
      "Means: 0.6484375, Stdev: 0.036225072248030094 with: {'batch_size': 20, 'epochs': 60}\n",
      "Means: 0.7044270833333334, Stdev: 0.012889967365379774 with: {'batch_size': 20, 'epochs': 200}\n"
     ]
    }
   ],
   "source": [
    "# define the grid search parameters\n",
    "param_grid = {'batch_size': [20],\n",
    "              'epochs': [20, 40, 60,200]}\n",
    "\n",
    "# Create Grid Search\n",
    "grid = GridSearchCV(estimator=model, param_grid=param_grid, n_jobs=1)\n",
    "grid_result = grid.fit(X, Y)\n",
    "\n",
    "# Report Results\n",
    "print(f\"Best: {grid_result.best_score_} using {grid_result.best_params_}\")\n",
    "means = grid_result.cv_results_['mean_test_score']\n",
    "stds = grid_result.cv_results_['std_test_score']\n",
    "params = grid_result.cv_results_['params']\n",
    "for mean, stdev, param in zip(means, stds, params):\n",
    "    print(f\"Means: {mean}, Stdev: {stdev} with: {param}\")"
   ]
  },
  {
   "cell_type": "markdown",
   "metadata": {
    "colab_type": "text",
    "id": "EKcuY6OiaLfz"
   },
   "source": [
    "## Optimizer\n",
    "\n",
    "Remember that there's a different optimizers [optimizers](https://keras.io/optimizers/). At some point, take some time to read up on them a little bit. \"adam\" usually gives the best results. The thing to know about choosing an optimizer is that different optimizers have different hyperparameters like learning rate, momentum, etc. So based on the optimizer you choose you might also have to tune the learning rate and momentum of those optimizers after that. "
   ]
  },
  {
   "cell_type": "markdown",
   "metadata": {
    "colab_type": "text",
    "id": "DG3wq5iOaLig"
   },
   "source": [
    "## Learning Rate\n",
    "\n",
    "Remember that the Learning Rate is a hyperparameter that is specific to your gradient-descent based optimizer selection. A learning rate that is too high will cause divergent behavior, but a Learning Rate that is too low will fail to converge, again, you're looking for the sweet spot. I would start out tuning learning rates by orders of magnitude: [.001, .01, .1, .2, .3, .5] etc. I wouldn't go above .5, but you can try it and see what the behavior is like. \n",
    "\n",
    "Once you have narrowed it down, make the window even smaller and try it again. If after running the above specification your model reports that .1 is the best optimizer, then you should probably try things like [.05, .08, .1, .12, .15] to try and narrow it down. \n",
    "\n",
    "It can also be good to tune the number of epochs in combination with the learning rate since the number of iterations that you allow the learning rate to reach the minimum can determine if you have let it run long enough to converge to the minimum. "
   ]
  },
  {
   "cell_type": "markdown",
   "metadata": {
    "colab_type": "text",
    "id": "gNTBUWd1aLlA"
   },
   "source": [
    "## Momentum\n",
    "\n",
    "Momentum is a hyperparameter that is more commonly associated with Stochastic Gradient Descent. SGD is a common optimizer because it's what people understand and know, but I doubt it will get you the best results, you can try hyperparameter tuning its attributes and see if you can beat the performance from adam. Momentum is a property that decides the willingness of an optimizer to overshoot the minimum. Imagine a ball rolling down one side of a bowl and then up the opposite side a little bit before settling back to the bottom. The purpose of momentum is to try and escale local minima."
   ]
  },
  {
   "cell_type": "markdown",
   "metadata": {
    "colab_type": "text",
    "id": "xnEG-bCJaLnZ"
   },
   "source": [
    "## Activation Functions\n",
    "\n",
    "We've talked about this a little bit, typically you'l want to use ReLU for hidden layers and either Sigmoid, or Softmax for output layers of binary and multi-class classification implementations respectively, but try other activation functions and see if you can get any better results with sigmoid or tanh or something. There are a lot of activation functions that we haven't really talked about. Maybe you'll get good results with them. Maybe you won't. :) <https://keras.io/activations/>"
   ]
  },
  {
   "cell_type": "markdown",
   "metadata": {
    "colab_type": "text",
    "id": "oul9sPq-dU-h"
   },
   "source": [
    "## Network Weight Initialization\n",
    "\n",
    "You saw how big of an effect the way that we initialize our network's weights can have on our results. There are **a lot** of what are called initialization modes. I don't understand all of them, but they can have a big affect on your model's initial accuracy. Your model will get further with less epochs if you initialize it with weights that are well suited to the problem you're trying to solve.\n",
    "\n",
    "`init_mode = ['uniform', 'lecun_uniform', 'normal', 'zero', 'glorot_normal', 'glorot_uniform', 'he_normal', 'he_uniform']`"
   ]
  },
  {
   "cell_type": "markdown",
   "metadata": {
    "colab_type": "text",
    "id": "bqtEuxeQaLqE"
   },
   "source": [
    "## Dropout Regularization and the Weight Constraint\n",
    "\n",
    "the Dropout Regularization value is a percentage of neurons that you want to be randomly deactivated during training. The weight constraint is a second regularization parameter that works in tandem with dropout regularization. You should tune these two values at the same time. \n",
    "\n",
    "Using dropout on visible vs hidden layers might have a different effect. Using dropout on hidden layers might not have any effect while using dropout on hidden layers might have a substantial effect. You don't necessarily need to turn use dropout unless you see that your model has overfitting and generalizability problems."
   ]
  },
  {
   "cell_type": "markdown",
   "metadata": {
    "colab_type": "text",
    "id": "P2c5Cv6oaLtO"
   },
   "source": [
    "## Neurons in Hidden Layer \n",
    "\n",
    "Remember that when we only had a single perceptron our model was only able to fit to linearly separable data, but as we have added layers and nodes to those layers our network has become a powerhouse of fitting nonlinearity in data. The larger the network and the more nodes generally the stronger the network's capacity to fit nonlinear patterns in data. The more nodes and layers the longer it will take to train a network, and higher the probability of overfitting. The larger your network gets the more you'll need dropout regularization or other regularization techniques to keep it in check. \n",
    "\n",
    "Typically depth (more layers) is more important than width (more nodes) for neural networks. This is part of why Deep Learning is so highly touted. Certain deep learning architectures have truly been huge breakthroughs for certain machine learning tasks. \n",
    "\n",
    "You might borrow ideas from other network architectures. For example if I was doing image recognition and I wasn't taking cues from state of the art architectures like resnet, alexnet, googlenet, etc. Then I'm probably going to have to do a lot more experimentation on my own before I find something that works.\n",
    "\n",
    "There are some heuristics, but I am highly skeptical of them. I think you're better off experimenting on your own and forming your own intuition for these kinds of problems. \n",
    "\n",
    "- https://machinelearningmastery.com/how-to-configure-the-number-of-layers-and-nodes-in-a-neural-network/"
   ]
  },
  {
   "cell_type": "markdown",
   "metadata": {},
   "source": [
    "## Challenge\n",
    "You will be expected to tune several hyperparameters in today's module project. "
   ]
  },
  {
   "cell_type": "markdown",
   "metadata": {},
   "source": [
    "# Experiment Tracking Framework (Learn)\n",
    "<a id=\"p2\"></a>"
   ]
  },
  {
   "cell_type": "markdown",
   "metadata": {},
   "source": [
    "## Overview\n",
    "\n",
    "You will notice quickly that managing the results of all the experiments you are running becomes challenging. Which set of parameters did the best? Are my results today different than my results yesterday? Although we use Ipython Notebooks to work, the format is not well suited to logging experimental results. Enter experiment tracking frameworks like [Comet.ml](https://comet.ml) and [Weights and Biases](https://wandb.ai/).\n",
    "\n",
    "Those tools will help you track your experiments, store the results, and the code associated with those experiments. Experimental results can also be readily visualized to see changes in performance across any metric you care about. Data is sent to the tool as each epoch is completed, so you can also see if your model is converging. Let's check out Weights & Biases today. "
   ]
  },
  {
   "cell_type": "markdown",
   "metadata": {},
   "source": [
    "## Follow Along\n",
    "\n",
    "Make sure you login into `wandb` in the terminal before running the next cell. "
   ]
  },
  {
   "cell_type": "code",
   "execution_count": 7,
   "metadata": {
    "collapsed": true,
    "jupyter": {
     "outputs_hidden": true
    }
   },
   "outputs": [
    {
     "name": "stdout",
     "output_type": "stream",
     "text": [
      "Collecting wandb\n",
      "  Using cached https://files.pythonhosted.org/packages/62/7c/cd5ef2bc3aa0597b5fd5645357f0207c02345ec2f3569dcbb56e6dafa070/wandb-0.8.27-py2.py3-none-any.whl\n",
      "Collecting sentry-sdk>=0.4.0 (from wandb)\n",
      "  Using cached https://files.pythonhosted.org/packages/23/5a/f1b0c63e40517b06bc21744a94013ca05de21de2687a59de889ea20a9ebd/sentry_sdk-0.14.1-py2.py3-none-any.whl\n",
      "Collecting GitPython>=1.0.0 (from wandb)\n",
      "  Using cached https://files.pythonhosted.org/packages/9d/38/e11e9376a91d55502ad153ce9391b06fa59741357b9e9d5cc2fc9c23ce93/GitPython-3.0.8-py3-none-any.whl\n",
      "Requirement already satisfied: PyYAML>=3.10 in /Users/Medy/opt/anaconda3/lib/python3.7/site-packages (from wandb) (5.1.2)\n",
      "Requirement already satisfied: Click>=7.0 in /Users/Medy/opt/anaconda3/lib/python3.7/site-packages (from wandb) (7.0)\n",
      "Requirement already satisfied: psutil>=5.0.0 in /Users/Medy/opt/anaconda3/lib/python3.7/site-packages (from wandb) (5.6.3)\n",
      "Collecting docker-pycreds>=0.4.0 (from wandb)\n",
      "  Using cached https://files.pythonhosted.org/packages/f5/e8/f6bd1eee09314e7e6dee49cbe2c5e22314ccdb38db16c9fc72d2fa80d054/docker_pycreds-0.4.0-py2.py3-none-any.whl\n",
      "Collecting nvidia-ml-py3>=7.352.0 (from wandb)\n",
      "  Using cached https://files.pythonhosted.org/packages/6d/64/cce82bddb80c0b0f5c703bbdafa94bfb69a1c5ad7a79cff00b482468f0d3/nvidia-ml-py3-7.352.0.tar.gz\n",
      "Collecting shortuuid>=0.5.0 (from wandb)\n",
      "  Using cached https://files.pythonhosted.org/packages/80/d7/2bfc9332e68d3e15ea97b9b1588b3899ad565120253d3fd71c8f7f13b4fe/shortuuid-0.5.0.tar.gz\n",
      "Requirement already satisfied: python-dateutil>=2.6.1 in /Users/Medy/opt/anaconda3/lib/python3.7/site-packages (from wandb) (2.8.0)\n",
      "Requirement already satisfied: six>=1.10.0 in /Users/Medy/opt/anaconda3/lib/python3.7/site-packages (from wandb) (1.12.0)\n",
      "Collecting watchdog>=0.8.3 (from wandb)\n",
      "  Using cached https://files.pythonhosted.org/packages/73/c3/ed6d992006837e011baca89476a4bbffb0a91602432f73bd4473816c76e2/watchdog-0.10.2.tar.gz\n",
      "Collecting subprocess32>=3.5.3 (from wandb)\n",
      "  Using cached https://files.pythonhosted.org/packages/32/c8/564be4d12629b912ea431f1a50eb8b3b9d00f1a0b1ceff17f266be190007/subprocess32-3.5.4.tar.gz\n",
      "Requirement already satisfied: requests>=2.0.0 in /Users/Medy/opt/anaconda3/lib/python3.7/site-packages (from wandb) (2.22.0)\n",
      "Collecting configparser>=3.8.1 (from wandb)\n",
      "  Using cached https://files.pythonhosted.org/packages/7a/2a/95ed0501cf5d8709490b1d3a3f9b5cf340da6c433f896bbe9ce08dbe6785/configparser-4.0.2-py2.py3-none-any.whl\n",
      "Collecting gql==0.2.0 (from wandb)\n",
      "  Using cached https://files.pythonhosted.org/packages/c4/6f/cf9a3056045518f06184e804bae89390eb706168349daa9dff8ac609962a/gql-0.2.0.tar.gz\n",
      "Requirement already satisfied: urllib3>=1.10.0 in /Users/Medy/opt/anaconda3/lib/python3.7/site-packages (from sentry-sdk>=0.4.0->wandb) (1.24.2)\n",
      "Requirement already satisfied: certifi in /Users/Medy/opt/anaconda3/lib/python3.7/site-packages (from sentry-sdk>=0.4.0->wandb) (2019.9.11)\n",
      "Collecting gitdb2>=3 (from GitPython>=1.0.0->wandb)\n",
      "  Using cached https://files.pythonhosted.org/packages/18/a8/370c8767e9d4133cdb1192ac42f377d09975bd0494e6a896b21462cc4679/gitdb2-3.0.2-py2.py3-none-any.whl\n",
      "Collecting pathtools>=0.1.1 (from watchdog>=0.8.3->wandb)\n",
      "  Using cached https://files.pythonhosted.org/packages/e7/7f/470d6fcdf23f9f3518f6b0b76be9df16dcc8630ad409947f8be2eb0ed13a/pathtools-0.1.2.tar.gz\n",
      "Requirement already satisfied: idna<2.9,>=2.5 in /Users/Medy/opt/anaconda3/lib/python3.7/site-packages (from requests>=2.0.0->wandb) (2.8)\n",
      "Requirement already satisfied: chardet<3.1.0,>=3.0.2 in /Users/Medy/opt/anaconda3/lib/python3.7/site-packages (from requests>=2.0.0->wandb) (3.0.4)\n",
      "Collecting graphql-core<2,>=0.5.0 (from gql==0.2.0->wandb)\n",
      "  Using cached https://files.pythonhosted.org/packages/b0/89/00ad5e07524d8c523b14d70c685e0299a8b0de6d0727e368c41b89b7ed0b/graphql-core-1.1.tar.gz\n",
      "Collecting promise<3,>=2.0 (from gql==0.2.0->wandb)\n",
      "  Using cached https://files.pythonhosted.org/packages/cf/9c/fb5d48abfe5d791cd496e4242ebcf87a4bb2e0c3dcd6e0ae68c11426a528/promise-2.3.tar.gz\n",
      "Collecting smmap2>=2.0.0 (from gitdb2>=3->GitPython>=1.0.0->wandb)\n",
      "  Using cached https://files.pythonhosted.org/packages/55/d2/866d45e3a121ee15a1dc013824d58072fd5c7799c9c34d01378eb262ca8f/smmap2-2.0.5-py2.py3-none-any.whl\n",
      "Building wheels for collected packages: nvidia-ml-py3, shortuuid, watchdog, subprocess32, gql, pathtools, graphql-core, promise\n",
      "  Building wheel for nvidia-ml-py3 (setup.py) ... \u001b[?25ldone\n",
      "\u001b[?25h  Created wheel for nvidia-ml-py3: filename=nvidia_ml_py3-7.352.0-cp37-none-any.whl size=19192 sha256=9abb24d08a988f6b710919efcdbcd28ee539fa518b622ae43db2f8a60d9ade96\n",
      "  Stored in directory: /Users/Medy/Library/Caches/pip/wheels/e4/1d/06/640c93f5270d67d0247f30be91f232700d19023f9e66d735c7\n",
      "  Building wheel for shortuuid (setup.py) ... \u001b[?25ldone\n",
      "\u001b[?25h  Created wheel for shortuuid: filename=shortuuid-0.5.0-cp37-none-any.whl size=5499 sha256=9b44961eb1c4db156aa9be34e24c903b73a10e9565bc0a830161ac679b35f5a7\n",
      "  Stored in directory: /Users/Medy/Library/Caches/pip/wheels/3f/eb/fd/69e5177f67b505e44acbd1aedfbe44b91768ee0c4cd5636576\n",
      "  Building wheel for watchdog (setup.py) ... \u001b[?25ldone\n",
      "\u001b[?25h  Created wheel for watchdog: filename=watchdog-0.10.2-cp37-cp37m-macosx_10_9_x86_64.whl size=78282 sha256=c9c4c3a8d3f17bb5d9bb4d99d35985206afc784564bffc7225f27e9bab38e92a\n",
      "  Stored in directory: /Users/Medy/Library/Caches/pip/wheels/bc/ed/6c/028dea90d31b359cd2a7c8b0da4db80e41d24a59614154072e\n",
      "  Building wheel for subprocess32 (setup.py) ... \u001b[?25ldone\n",
      "\u001b[?25h  Created wheel for subprocess32: filename=subprocess32-3.5.4-cp37-none-any.whl size=6490 sha256=1ba7159453e44f9df1039465f2a051640249bf99d933c2490441c64b2b23ec12\n",
      "  Stored in directory: /Users/Medy/Library/Caches/pip/wheels/68/39/1a/5e402bdfdf004af1786c8b853fd92f8c4a04f22aad179654d1\n",
      "  Building wheel for gql (setup.py) ... \u001b[?25ldone\n",
      "\u001b[?25h  Created wheel for gql: filename=gql-0.2.0-cp37-none-any.whl size=7630 sha256=08859530d667aee686696c61fcae86cc8573a68395e71ad74459f86b2ac8ad1b\n",
      "  Stored in directory: /Users/Medy/Library/Caches/pip/wheels/ce/0e/7b/58a8a5268655b3ad74feef5aa97946f0addafb3cbb6bd2da23\n",
      "  Building wheel for pathtools (setup.py) ... \u001b[?25ldone\n",
      "\u001b[?25h  Created wheel for pathtools: filename=pathtools-0.1.2-cp37-none-any.whl size=8786 sha256=20053af261dd1a560380418abdb6797437a40896b853c276a34c9e5b849cac50\n",
      "  Stored in directory: /Users/Medy/Library/Caches/pip/wheels/0b/04/79/c3b0c3a0266a3cb4376da31e5bfe8bba0c489246968a68e843\n",
      "  Building wheel for graphql-core (setup.py) ... \u001b[?25ldone\n",
      "\u001b[?25h  Created wheel for graphql-core: filename=graphql_core-1.1-cp37-none-any.whl size=104651 sha256=393624d870461aba1fa5c737ecb81a66aa377a08ecb70d8a4f3caa377bab7bf2\n",
      "  Stored in directory: /Users/Medy/Library/Caches/pip/wheels/45/99/d7/c424029bb0fe910c63b68dbf2aa20d3283d023042521bcd7d5\n",
      "  Building wheel for promise (setup.py) ... \u001b[?25ldone\n",
      "\u001b[?25h  Created wheel for promise: filename=promise-2.3-cp37-none-any.whl size=21494 sha256=ac4a9d7e7dff0d6121424ea9e79095fc8edc799b80fe3045f885284c3aab6f8d\n",
      "  Stored in directory: /Users/Medy/Library/Caches/pip/wheels/19/49/34/c3c1e78bcb954c49e5ec0d31784fe63d14d427f316b12fbde9\n",
      "Successfully built nvidia-ml-py3 shortuuid watchdog subprocess32 gql pathtools graphql-core promise\n",
      "Installing collected packages: sentry-sdk, smmap2, gitdb2, GitPython, docker-pycreds, nvidia-ml-py3, shortuuid, pathtools, watchdog, subprocess32, configparser, promise, graphql-core, gql, wandb\n",
      "Successfully installed GitPython-3.0.8 configparser-4.0.2 docker-pycreds-0.4.0 gitdb2-3.0.2 gql-0.2.0 graphql-core-1.1 nvidia-ml-py3-7.352.0 pathtools-0.1.2 promise-2.3 sentry-sdk-0.14.1 shortuuid-0.5.0 smmap2-2.0.5 subprocess32-3.5.4 wandb-0.8.27 watchdog-0.10.2\n"
     ]
    }
   ],
   "source": [
    "!pip install wandb\n",
    "import wandb\n",
    "from wandb.keras import WandbCallback"
   ]
  },
  {
   "cell_type": "code",
   "execution_count": 10,
   "metadata": {
    "colab": {
     "base_uri": "https://localhost:8080/",
     "height": 1750
    },
    "colab_type": "code",
    "id": "GMXVfmzXp1Oo",
    "outputId": "b05e251e-508f-46e6-865b-f869ae2a5dc4"
   },
   "outputs": [
    {
     "data": {
      "text/html": [
       "\n",
       "                Logging results to <a href=\"https://wandb.com\" target=\"_blank\">Weights & Biases</a> <a href=\"https://docs.wandb.com/integrations/jupyter.html\" target=\"_blank\">(Documentation)</a>.<br/>\n",
       "                Project page: <a href=\"https://app.wandb.ai/ds8/ds10_inclass\" target=\"_blank\">https://app.wandb.ai/ds8/ds10_inclass</a><br/>\n",
       "                Run page: <a href=\"https://app.wandb.ai/ds8/ds10_inclass/runs/orx6unlc\" target=\"_blank\">https://app.wandb.ai/ds8/ds10_inclass/runs/orx6unlc</a><br/>\n",
       "            "
      ],
      "text/plain": [
       "<IPython.core.display.HTML object>"
      ]
     },
     "metadata": {},
     "output_type": "display_data"
    },
    {
     "name": "stdout",
     "output_type": "stream",
     "text": [
      "Train on 270 samples, validate on 134 samples\n",
      "Epoch 1/30\n",
      "270/270 [==============================] - 1s 2ms/sample - loss: 21.1934 - mse: 527.4857 - mae: 21.1934 - val_loss: 21.9448 - val_mse: 581.9151 - val_mae: 21.9448\n",
      "Epoch 2/30\n",
      "270/270 [==============================] - 0s 340us/sample - loss: 19.3737 - mse: 456.3951 - mae: 19.3737 - val_loss: 19.7215 - val_mse: 493.5466 - val_mae: 19.7215\n",
      "Epoch 3/30\n",
      "270/270 [==============================] - 0s 251us/sample - loss: 16.4609 - mse: 352.7025 - mae: 16.4609 - val_loss: 16.2139 - val_mse: 361.6098 - val_mae: 16.2139\n",
      "Epoch 4/30\n",
      "270/270 [==============================] - 0s 267us/sample - loss: 12.2217 - mse: 215.9217 - mae: 12.2217 - val_loss: 11.1279 - val_mse: 199.7483 - val_mae: 11.1279\n",
      "Epoch 5/30\n",
      "270/270 [==============================] - 0s 270us/sample - loss: 7.6641 - mse: 97.7245 - mae: 7.6641 - val_loss: 7.7704 - val_mse: 109.1908 - val_mae: 7.7704\n",
      "Epoch 6/30\n",
      "270/270 [==============================] - 0s 285us/sample - loss: 5.4540 - mse: 54.9182 - mae: 5.4540 - val_loss: 6.4055 - val_mse: 82.8960 - val_mae: 6.4055\n",
      "Epoch 7/30\n",
      "270/270 [==============================] - 0s 269us/sample - loss: 4.4822 - mse: 38.8085 - mae: 4.4822 - val_loss: 5.1450 - val_mse: 62.4600 - val_mae: 5.1450\n",
      "Epoch 8/30\n",
      "270/270 [==============================] - 0s 312us/sample - loss: 3.6804 - mse: 27.9683 - mae: 3.6804 - val_loss: 4.3718 - val_mse: 50.1989 - val_mae: 4.3718\n",
      "Epoch 9/30\n",
      "270/270 [==============================] - 0s 281us/sample - loss: 3.2765 - mse: 22.6920 - mae: 3.2765 - val_loss: 4.0645 - val_mse: 45.2351 - val_mae: 4.0645\n",
      "Epoch 10/30\n",
      "270/270 [==============================] - 0s 285us/sample - loss: 3.0379 - mse: 20.3558 - mae: 3.0379 - val_loss: 3.8480 - val_mse: 41.8020 - val_mae: 3.8480\n",
      "Epoch 11/30\n",
      "270/270 [==============================] - 0s 279us/sample - loss: 2.9051 - mse: 18.6266 - mae: 2.9051 - val_loss: 3.6386 - val_mse: 38.6801 - val_mae: 3.6386\n",
      "Epoch 12/30\n",
      "270/270 [==============================] - 0s 279us/sample - loss: 2.7751 - mse: 17.7752 - mae: 2.7751 - val_loss: 3.5516 - val_mse: 38.6531 - val_mae: 3.5516\n",
      "Epoch 13/30\n",
      "270/270 [==============================] - 0s 263us/sample - loss: 2.6974 - mse: 16.6530 - mae: 2.6974 - val_loss: 3.4116 - val_mse: 36.6841 - val_mae: 3.4116\n",
      "Epoch 14/30\n",
      "270/270 [==============================] - 0s 256us/sample - loss: 2.6394 - mse: 16.0876 - mae: 2.6394 - val_loss: 3.2905 - val_mse: 34.5548 - val_mae: 3.2905\n",
      "Epoch 15/30\n",
      "270/270 [==============================] - 0s 252us/sample - loss: 2.5011 - mse: 14.6917 - mae: 2.5011 - val_loss: 3.2542 - val_mse: 35.0458 - val_mae: 3.2542\n",
      "Epoch 16/30\n",
      "270/270 [==============================] - 0s 257us/sample - loss: 2.4247 - mse: 14.0236 - mae: 2.4247 - val_loss: 3.1263 - val_mse: 32.7103 - val_mae: 3.1263\n",
      "Epoch 17/30\n",
      "270/270 [==============================] - 0s 297us/sample - loss: 2.3486 - mse: 13.4888 - mae: 2.3486 - val_loss: 3.0772 - val_mse: 32.5756 - val_mae: 3.0772\n",
      "Epoch 18/30\n",
      "270/270 [==============================] - 0s 183us/sample - loss: 2.3382 - mse: 13.4587 - mae: 2.3382 - val_loss: 3.0977 - val_mse: 33.2659 - val_mae: 3.0977\n",
      "Epoch 19/30\n",
      "270/270 [==============================] - 0s 281us/sample - loss: 2.2889 - mse: 12.7837 - mae: 2.2889 - val_loss: 2.9960 - val_mse: 31.3844 - val_mae: 2.9960\n",
      "Epoch 20/30\n",
      "270/270 [==============================] - 0s 168us/sample - loss: 2.2072 - mse: 12.3779 - mae: 2.2072 - val_loss: 3.0281 - val_mse: 31.4035 - val_mae: 3.0281\n",
      "Epoch 21/30\n",
      "270/270 [==============================] - 0s 280us/sample - loss: 2.1773 - mse: 11.9068 - mae: 2.1773 - val_loss: 2.9412 - val_mse: 30.7294 - val_mae: 2.9412\n",
      "Epoch 22/30\n",
      "270/270 [==============================] - 0s 322us/sample - loss: 2.0929 - mse: 11.4930 - mae: 2.0929 - val_loss: 2.8845 - val_mse: 29.6119 - val_mae: 2.8845\n",
      "Epoch 23/30\n",
      "270/270 [==============================] - 0s 282us/sample - loss: 2.0686 - mse: 11.3017 - mae: 2.0686 - val_loss: 2.8333 - val_mse: 28.3271 - val_mae: 2.8333\n",
      "Epoch 24/30\n",
      "270/270 [==============================] - 0s 203us/sample - loss: 2.0346 - mse: 10.7362 - mae: 2.0346 - val_loss: 2.9811 - val_mse: 30.3448 - val_mae: 2.9811\n",
      "Epoch 25/30\n",
      "270/270 [==============================] - 0s 299us/sample - loss: 2.0340 - mse: 10.8571 - mae: 2.0340 - val_loss: 2.7809 - val_mse: 27.6196 - val_mae: 2.7809\n",
      "Epoch 26/30\n",
      "270/270 [==============================] - 0s 259us/sample - loss: 2.0251 - mse: 10.6750 - mae: 2.0251 - val_loss: 2.8694 - val_mse: 28.7334 - val_mae: 2.8694\n",
      "Epoch 27/30\n",
      "270/270 [==============================] - 0s 272us/sample - loss: 1.9593 - mse: 10.2935 - mae: 1.9593 - val_loss: 2.8670 - val_mse: 28.5837 - val_mae: 2.8670\n",
      "Epoch 28/30\n",
      "270/270 [==============================] - 0s 239us/sample - loss: 1.9412 - mse: 10.3192 - mae: 1.9412 - val_loss: 2.8152 - val_mse: 27.6929 - val_mae: 2.8152\n",
      "Epoch 29/30\n",
      "270/270 [==============================] - 0s 249us/sample - loss: 1.9295 - mse: 10.0818 - mae: 1.9295 - val_loss: 2.7822 - val_mse: 27.1081 - val_mae: 2.7822\n",
      "Epoch 30/30\n",
      "270/270 [==============================] - 0s 345us/sample - loss: 1.9136 - mse: 10.0586 - mae: 1.9136 - val_loss: 2.7659 - val_mse: 26.8947 - val_mae: 2.7659\n"
     ]
    },
    {
     "data": {
      "text/plain": [
       "<tensorflow.python.keras.callbacks.History at 0x12d696210>"
      ]
     },
     "execution_count": 10,
     "metadata": {},
     "output_type": "execute_result"
    }
   ],
   "source": [
    "# entity= 'ds8'\n",
    "# project = 'ds10_inclass'\n",
    "wandb.init(project=\"ds10_inclass\", entity=\"ds8\") #Initializes and Experiment\n",
    "\n",
    "# Important Hyperparameters\n",
    "X =  x_train\n",
    "y =  y_train\n",
    "\n",
    "inputs = X.shape[1]\n",
    "wandb.config.epochs = 30\n",
    "wandb.config.batch_size = 15\n",
    "\n",
    "# Create Model\n",
    "model = Sequential()\n",
    "model.add(Dense(64, activation='relu', input_shape=(inputs,)))\n",
    "model.add(Dense(64, activation='relu'))\n",
    "# model.add(Dense(64, activation='relu'))\n",
    "model.add(Dense(1))\n",
    "# Compile Model\n",
    "model.compile(optimizer='adam', loss='mae', metrics=['mse', 'mae'])\n",
    "\n",
    "# Fit Model\n",
    "model.fit(X, y, \n",
    "          validation_split=0.33, \n",
    "          epochs=wandb.config.epochs, \n",
    "          batch_size=wandb.config.batch_size, \n",
    "          callbacks=[WandbCallback()]\n",
    "         )"
   ]
  },
  {
   "cell_type": "markdown",
   "metadata": {},
   "source": [
    "## Challenge\n",
    "\n",
    "You will be expected to use Weights & Biases to try to tune your model during your module assignment today. "
   ]
  },
  {
   "cell_type": "markdown",
   "metadata": {},
   "source": [
    "# Hyperparameters with RandomSearchCV (Learn)"
   ]
  },
  {
   "cell_type": "markdown",
   "metadata": {},
   "source": [
    "## Overview\n",
    "\n",
    "Basically `GridSearchCV` takes forever. You'll want to adopt a slightly more sophiscated strategy."
   ]
  },
  {
   "cell_type": "markdown",
   "metadata": {},
   "source": [
    "## Follow Along"
   ]
  },
  {
   "cell_type": "code",
   "execution_count": null,
   "metadata": {},
   "outputs": [],
   "source": [
    "sweep_config = {\n",
    "    'method': 'random',\n",
    "    'parameters': {\n",
    "        'learning_rate': {'distribution': 'normal'},\n",
    "        'epochs': {'distribution': 'uniform',\n",
    "                    'min': 100,\n",
    "                    'max': 1000},\n",
    "        'batch_size': {'distribution': 'uniform',\n",
    "            'min': 10,\n",
    "            'max': 400}\n",
    "    }\n",
    "}"
   ]
  },
  {
   "cell_type": "code",
   "execution_count": 13,
   "metadata": {},
   "outputs": [
    {
     "name": "stdout",
     "output_type": "stream",
     "text": [
      "Create sweep with ID: huau0u9r\n",
      "Sweep URL: https://app.wandb.ai/lambda-ds7/boston/sweeps/huau0u9r\n"
     ]
    }
   ],
   "source": [
    "sweep_id = wandb.sweep(sweep_config)"
   ]
  },
  {
   "cell_type": "code",
   "execution_count": 11,
   "metadata": {},
   "outputs": [],
   "source": [
    "import wandb\n",
    "from wandb.keras import WandbCallback\n",
    "#Initializes and Experiment\n",
    "\n",
    "from tensorflow.keras.optimizers import Adam\n",
    "\n",
    "# Important Hyperparameters\n",
    "X =  x_train\n",
    "y =  y_train\n",
    "\n",
    "inputs = X.shape[1]\n",
    "\n",
    "def train():\n",
    "    \n",
    "    wandb.init(project=\"boston\", entity=\"lambda-ds7\") \n",
    "    \n",
    "    config = wandb.config\n",
    "\n",
    "    # Create Model\n",
    "    model = Sequential()\n",
    "    model.add(Dense(64, activation='relu', input_shape=(inputs,)))\n",
    "    model.add(Dense(64, activation='relu'))\n",
    "    model.add(Dense(64, activation='relu'))\n",
    "    model.add(Dense(1))\n",
    "\n",
    "    # Optimizer \n",
    "    adam = Adam(learning_rate=config.learning_rate)\n",
    "\n",
    "    # Compile Model\n",
    "    model.compile(optimizer=adam, loss='mse', metrics=['mse', 'mae'])\n",
    "\n",
    "    # Fit Model\n",
    "    model.fit(X, y, \n",
    "              validation_split=0.33, \n",
    "              epochs=config.epochs, \n",
    "              batch_size=config.batch_size, \n",
    "              callbacks=[WandbCallback()]\n",
    "             )"
   ]
  },
  {
   "cell_type": "code",
   "execution_count": null,
   "metadata": {},
   "outputs": [
    {
     "name": "stdout",
     "output_type": "stream",
     "text": [
      "wandb: Agent Starting Run: 2g77kp6k with config:\n",
      "\tbatch_size: 308.503347845309\n",
      "\tepochs: 704.9395850579006\n",
      "\tlearning_rate: 1.480005523005428\n",
      "wandb: Agent Started Run: 2g77kp6k\n"
     ]
    },
    {
     "data": {
      "text/html": [
       "\n",
       "                Logging results to <a href=\"https://wandb.com\" target=\"_blank\">Weights & Biases</a> <a href=\"https://docs.wandb.com/integrations/jupyter.html\" target=\"_blank\">(Documentation)</a>.<br/>\n",
       "                Project page: <a href=\"https://app.wandb.ai/lambda-ds7/boston\" target=\"_blank\">https://app.wandb.ai/lambda-ds7/boston</a><br/>\n",
       "                Run page: <a href=\"https://app.wandb.ai/lambda-ds7/boston/runs/t4w9l4ye\" target=\"_blank\">https://app.wandb.ai/lambda-ds7/boston/runs/t4w9l4ye</a><br/>\n",
       "            "
      ],
      "text/plain": [
       "<IPython.core.display.HTML object>"
      ]
     },
     "metadata": {},
     "output_type": "display_data"
    }
   ],
   "source": [
    "wandb.agent(sweep_id, function=train)"
   ]
  },
  {
   "cell_type": "markdown",
   "metadata": {},
   "source": [
    "## Challenge\n",
    "\n",
    "Try to apply RandomSearchCV to your module project today. "
   ]
  },
  {
   "cell_type": "markdown",
   "metadata": {},
   "source": [
    "# Review\n",
    "* <a href=\"#p1\">Part 1</a>: Describe the major hyperparemeters to tune\n",
    "    - Activation Functions\n",
    "    - Optimizer\n",
    "    - Number of Layers\n",
    "    - Number of Neurons\n",
    "    - Batch Size\n",
    "    - Dropout Regulaization\n",
    "    - Learning Rate\n",
    "    - Number of Epochs\n",
    "    - and many more\n",
    "* <a href=\"#p2\">Part 2</a>: Implement an experiment tracking framework\n",
    "    - Weights & Biases\n",
    "    - Comet.ml\n",
    "    - By Hand / GridSearch\n",
    "* <a href=\"#p3\">Part 3</a>: Search the hyperparameter space using RandomSearch\n",
    "    - Sklearn still useful (haha)\n",
    "    - Integration with Wieghts & Biases\n",
    "* <a href=\"#p4\">Part 4</a>: Discuss emerging hyperparameter tuning strategies\n",
    "    - Bayesian Optimization\n",
    "    - Hyperopt\n",
    "    - Genetic Evolution"
   ]
  },
  {
   "cell_type": "markdown",
   "metadata": {},
   "source": [
    "# Sources"
   ]
  },
  {
   "cell_type": "markdown",
   "metadata": {},
   "source": [
    "## Additional Reading\n",
    "- https://machinelearningmastery.com/grid-search-hyperparameters-deep-learning-models-python-keras/\n",
    "- https://blog.floydhub.com/guide-to-hyperparameters-search-for-deep-learning-models/\n",
    "- https://machinelearningmastery.com/dropout-regularization-deep-learning-models-keras/\n",
    "- https://machinelearningmastery.com/introduction-to-weight-constraints-to-reduce-generalization-error-in-deep-learning/\n",
    "- https://machinelearningmastery.com/how-to-configure-the-number-of-layers-and-nodes-in-a-neural-network/"
   ]
  }
 ],
 "metadata": {
  "kernelspec": {
   "display_name": "Python 3",
   "language": "python",
   "name": "python3"
  },
  "language_info": {
   "codemirror_mode": {
    "name": "ipython",
    "version": 3
   },
   "file_extension": ".py",
   "mimetype": "text/x-python",
   "name": "python",
   "nbconvert_exporter": "python",
   "pygments_lexer": "ipython3",
   "version": "3.7.4"
  }
 },
 "nbformat": 4,
 "nbformat_minor": 4
}
